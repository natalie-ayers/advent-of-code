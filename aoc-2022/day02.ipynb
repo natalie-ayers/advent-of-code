{
 "cells": [
  {
   "cell_type": "markdown",
   "metadata": {},
   "source": [
    "## Advent of Code 2022\n",
    "### Day 2\n",
    "#### Part 1"
   ]
  },
  {
   "cell_type": "code",
   "execution_count": 1,
   "metadata": {},
   "outputs": [],
   "source": [
    "import pandas as pd\n"
   ]
  },
  {
   "cell_type": "code",
   "execution_count": 16,
   "metadata": {},
   "outputs": [
    {
     "data": {
      "text/html": [
       "<div>\n",
       "<style scoped>\n",
       "    .dataframe tbody tr th:only-of-type {\n",
       "        vertical-align: middle;\n",
       "    }\n",
       "\n",
       "    .dataframe tbody tr th {\n",
       "        vertical-align: top;\n",
       "    }\n",
       "\n",
       "    .dataframe thead th {\n",
       "        text-align: right;\n",
       "    }\n",
       "</style>\n",
       "<table border=\"1\" class=\"dataframe\">\n",
       "  <thead>\n",
       "    <tr style=\"text-align: right;\">\n",
       "      <th></th>\n",
       "      <th>opp</th>\n",
       "      <th>you</th>\n",
       "    </tr>\n",
       "  </thead>\n",
       "  <tbody>\n",
       "    <tr>\n",
       "      <th>0</th>\n",
       "      <td>C</td>\n",
       "      <td>X</td>\n",
       "    </tr>\n",
       "    <tr>\n",
       "      <th>1</th>\n",
       "      <td>C</td>\n",
       "      <td>X</td>\n",
       "    </tr>\n",
       "    <tr>\n",
       "      <th>2</th>\n",
       "      <td>A</td>\n",
       "      <td>Y</td>\n",
       "    </tr>\n",
       "    <tr>\n",
       "      <th>3</th>\n",
       "      <td>C</td>\n",
       "      <td>X</td>\n",
       "    </tr>\n",
       "    <tr>\n",
       "      <th>4</th>\n",
       "      <td>B</td>\n",
       "      <td>Y</td>\n",
       "    </tr>\n",
       "    <tr>\n",
       "      <th>5</th>\n",
       "      <td>A</td>\n",
       "      <td>X</td>\n",
       "    </tr>\n",
       "    <tr>\n",
       "      <th>6</th>\n",
       "      <td>A</td>\n",
       "      <td>Z</td>\n",
       "    </tr>\n",
       "    <tr>\n",
       "      <th>7</th>\n",
       "      <td>B</td>\n",
       "      <td>Y</td>\n",
       "    </tr>\n",
       "    <tr>\n",
       "      <th>8</th>\n",
       "      <td>C</td>\n",
       "      <td>Z</td>\n",
       "    </tr>\n",
       "    <tr>\n",
       "      <th>9</th>\n",
       "      <td>C</td>\n",
       "      <td>Z</td>\n",
       "    </tr>\n",
       "  </tbody>\n",
       "</table>\n",
       "</div>"
      ],
      "text/plain": [
       "  opp you\n",
       "0   C   X\n",
       "1   C   X\n",
       "2   A   Y\n",
       "3   C   X\n",
       "4   B   Y\n",
       "5   A   X\n",
       "6   A   Z\n",
       "7   B   Y\n",
       "8   C   Z\n",
       "9   C   Z"
      ]
     },
     "execution_count": 16,
     "metadata": {},
     "output_type": "execute_result"
    }
   ],
   "source": [
    "day = pd.read_csv('data/day02.txt',sep= \" \", names=['opp','you'])\n",
    "\n",
    "day.head(10)"
   ]
  },
  {
   "cell_type": "code",
   "execution_count": 22,
   "metadata": {},
   "outputs": [],
   "source": [
    "def calc_score_rd(opp, you):\n",
    "    \"\"\"\n",
    "    Calculate the score for a single round of Rock, Paper, Scissors\n",
    "    \"\"\"\n",
    "    score = 0\n",
    "    if you == \"X\":\n",
    "        score += 1\n",
    "        if opp == \"A\":\n",
    "            score += 3\n",
    "        elif opp == \"C\":\n",
    "            score += 6\n",
    "    elif you == \"Y\":\n",
    "        score += 2\n",
    "        if opp == \"A\":\n",
    "            score += 6\n",
    "        elif opp == \"B\":\n",
    "            score += 3\n",
    "    elif you == \"Z\":\n",
    "        score += 3\n",
    "        if opp == \"B\":\n",
    "            score += 6\n",
    "        elif opp == \"C\":\n",
    "            score += 3\n",
    "    else:\n",
    "        print(\"Invalid shape played\")\n",
    "    return score"
   ]
  },
  {
   "cell_type": "code",
   "execution_count": 23,
   "metadata": {},
   "outputs": [],
   "source": [
    "def calc_score_game(moves_df, round_calc):\n",
    "    \"\"\"\n",
    "    Calculate the score for an entire game of Rock, Paper, Scissors\n",
    "    \"\"\"\n",
    "    score_tot = 0\n",
    "    for _, opp, you in moves_df.itertuples():\n",
    "        score_tot += round_calc(opp, you)\n",
    "    return score_tot"
   ]
  },
  {
   "cell_type": "code",
   "execution_count": 24,
   "metadata": {},
   "outputs": [
    {
     "name": "stdout",
     "output_type": "stream",
     "text": [
      "13809\n"
     ]
    }
   ],
   "source": [
    "predicted_score = calc_score_game(day, calc_score_rd)\n",
    "print(predicted_score)"
   ]
  },
  {
   "cell_type": "markdown",
   "metadata": {},
   "source": [
    "#### Part 2"
   ]
  },
  {
   "cell_type": "code",
   "execution_count": 25,
   "metadata": {},
   "outputs": [],
   "source": [
    "def calc_score_rd_adj(opp, you):\n",
    "    \"\"\"\n",
    "    Calculate the score for a single round of Rock, Paper, Scissors\n",
    "        with the new, Part 2 rules\n",
    "    \"\"\"\n",
    "    score = 0\n",
    "    if you == \"X\":\n",
    "        if opp == \"A\":\n",
    "            score += 3\n",
    "        elif opp == \"B\":\n",
    "            score += 1\n",
    "        else:\n",
    "            score += 2\n",
    "        \n",
    "    elif you == \"Y\":\n",
    "        score += 3\n",
    "        if opp == \"A\":\n",
    "            score += 1\n",
    "        elif opp == \"B\":\n",
    "            score += 2\n",
    "        else:\n",
    "            score += 3\n",
    "\n",
    "    elif you == \"Z\":\n",
    "        score += 6\n",
    "        if opp == \"A\":\n",
    "            score += 2\n",
    "        elif opp == \"B\":\n",
    "            score += 3\n",
    "        else:\n",
    "            score += 1\n",
    "    else:\n",
    "        print(\"Invalid shape played\")\n",
    "    return score"
   ]
  },
  {
   "cell_type": "code",
   "execution_count": 26,
   "metadata": {},
   "outputs": [
    {
     "name": "stdout",
     "output_type": "stream",
     "text": [
      "12316\n"
     ]
    }
   ],
   "source": [
    "predicted_score_adj = calc_score_game(day, calc_score_rd_adj)\n",
    "print(predicted_score_adj)"
   ]
  }
 ],
 "metadata": {
  "kernelspec": {
   "display_name": "Python 3.9.10 ('venv')",
   "language": "python",
   "name": "python3"
  },
  "language_info": {
   "codemirror_mode": {
    "name": "ipython",
    "version": 3
   },
   "file_extension": ".py",
   "mimetype": "text/x-python",
   "name": "python",
   "nbconvert_exporter": "python",
   "pygments_lexer": "ipython3",
   "version": "3.9.10"
  },
  "orig_nbformat": 4,
  "vscode": {
   "interpreter": {
    "hash": "40f6b8985ae3d3af9736205d555f7ff87522357a9f5bdb6e88eda9160976b228"
   }
  }
 },
 "nbformat": 4,
 "nbformat_minor": 2
}
