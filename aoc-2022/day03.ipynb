{
 "cells": [
  {
   "cell_type": "markdown",
   "metadata": {},
   "source": [
    "## Advent of Code 2022\n",
    "### Day 3\n",
    "#### Part 1"
   ]
  },
  {
   "cell_type": "code",
   "execution_count": 109,
   "metadata": {},
   "outputs": [],
   "source": [
    "import pandas as pd"
   ]
  },
  {
   "cell_type": "code",
   "execution_count": 110,
   "metadata": {},
   "outputs": [
    {
     "data": {
      "text/html": [
       "<div>\n",
       "<style scoped>\n",
       "    .dataframe tbody tr th:only-of-type {\n",
       "        vertical-align: middle;\n",
       "    }\n",
       "\n",
       "    .dataframe tbody tr th {\n",
       "        vertical-align: top;\n",
       "    }\n",
       "\n",
       "    .dataframe thead th {\n",
       "        text-align: right;\n",
       "    }\n",
       "</style>\n",
       "<table border=\"1\" class=\"dataframe\">\n",
       "  <thead>\n",
       "    <tr style=\"text-align: right;\">\n",
       "      <th></th>\n",
       "      <th>contents</th>\n",
       "    </tr>\n",
       "  </thead>\n",
       "  <tbody>\n",
       "    <tr>\n",
       "      <th>0</th>\n",
       "      <td>DPstqDdrsqdDtqrFDJDDrmtsJHflSJCLgCphgHHgRHJCRRff</td>\n",
       "    </tr>\n",
       "    <tr>\n",
       "      <th>1</th>\n",
       "      <td>BcBGcQzVBVZcvznTTTvZcGTpCRRRfRCggLflHlhhCZpZCj</td>\n",
       "    </tr>\n",
       "    <tr>\n",
       "      <th>2</th>\n",
       "      <td>vGQnQvnzTzNTTbVnzGBqMqwqDLdPtMmbwqqLLM</td>\n",
       "    </tr>\n",
       "    <tr>\n",
       "      <th>3</th>\n",
       "      <td>wLRFRqvFsFRjfrHddbdbjzdH</td>\n",
       "    </tr>\n",
       "    <tr>\n",
       "      <th>4</th>\n",
       "      <td>lcsnSJPSSVVlGmGrHzbbrGNrdzbz</td>\n",
       "    </tr>\n",
       "    <tr>\n",
       "      <th>5</th>\n",
       "      <td>mSmlnnPlmJmncVDSlSZSlmLBCvtwBvtLCqqswsDBCTWW</td>\n",
       "    </tr>\n",
       "    <tr>\n",
       "      <th>6</th>\n",
       "      <td>pfqPrPgmmhvqdlsdWq</td>\n",
       "    </tr>\n",
       "    <tr>\n",
       "      <th>7</th>\n",
       "      <td>nfjHLJfZcLbVtQWWtndhls</td>\n",
       "    </tr>\n",
       "    <tr>\n",
       "      <th>8</th>\n",
       "      <td>CzJJFLzRzfDwrmggpC</td>\n",
       "    </tr>\n",
       "    <tr>\n",
       "      <th>9</th>\n",
       "      <td>CWfllmlCDFlZZqMfmFBWmWLJVRLVwNNtRVGPpwtGpqbJ</td>\n",
       "    </tr>\n",
       "  </tbody>\n",
       "</table>\n",
       "</div>"
      ],
      "text/plain": [
       "                                           contents\n",
       "0  DPstqDdrsqdDtqrFDJDDrmtsJHflSJCLgCphgHHgRHJCRRff\n",
       "1    BcBGcQzVBVZcvznTTTvZcGTpCRRRfRCggLflHlhhCZpZCj\n",
       "2            vGQnQvnzTzNTTbVnzGBqMqwqDLdPtMmbwqqLLM\n",
       "3                          wLRFRqvFsFRjfrHddbdbjzdH\n",
       "4                      lcsnSJPSSVVlGmGrHzbbrGNrdzbz\n",
       "5      mSmlnnPlmJmncVDSlSZSlmLBCvtwBvtLCqqswsDBCTWW\n",
       "6                                pfqPrPgmmhvqdlsdWq\n",
       "7                            nfjHLJfZcLbVtQWWtndhls\n",
       "8                                CzJJFLzRzfDwrmggpC\n",
       "9      CWfllmlCDFlZZqMfmFBWmWLJVRLVwNNtRVGPpwtGpqbJ"
      ]
     },
     "execution_count": 110,
     "metadata": {},
     "output_type": "execute_result"
    }
   ],
   "source": [
    "day = pd.read_csv('data/day03.txt',sep= \"\\n\", names=['contents'])\n",
    "\n",
    "day.head(10)"
   ]
  },
  {
   "cell_type": "code",
   "execution_count": 31,
   "metadata": {},
   "outputs": [],
   "source": [
    "def id_outlier(content_str):\n",
    "    \"\"\" \n",
    "    Identify the outlier letter in both\n",
    "        compartments\n",
    "    \"\"\"\n",
    "    comp_size = int(len(content_str) / 2)\n",
    "    comp_a = content_str[:comp_size]\n",
    "    comp_b = content_str[comp_size:]\n",
    "    for let in comp_a:\n",
    "        if let in comp_b:\n",
    "            outlier = let\n",
    "            break\n",
    "    if outlier.isupper():\n",
    "        priority = ord(outlier) - 38\n",
    "    else:\n",
    "        priority = ord(outlier) - 96\n",
    "\n",
    "    return priority\n",
    "    "
   ]
  },
  {
   "cell_type": "code",
   "execution_count": 32,
   "metadata": {},
   "outputs": [
    {
     "name": "stdout",
     "output_type": "stream",
     "text": [
      "7817\n"
     ]
    }
   ],
   "source": [
    "priority_total = 0\n",
    "for _, str in day.itertuples():\n",
    "    priority_total += id_outlier(str)\n",
    "\n",
    "print(priority_total)"
   ]
  },
  {
   "cell_type": "markdown",
   "metadata": {},
   "source": [
    "#### Part 2"
   ]
  },
  {
   "cell_type": "code",
   "execution_count": 111,
   "metadata": {},
   "outputs": [
    {
     "data": {
      "text/html": [
       "<div>\n",
       "<style scoped>\n",
       "    .dataframe tbody tr th:only-of-type {\n",
       "        vertical-align: middle;\n",
       "    }\n",
       "\n",
       "    .dataframe tbody tr th {\n",
       "        vertical-align: top;\n",
       "    }\n",
       "\n",
       "    .dataframe thead th {\n",
       "        text-align: right;\n",
       "    }\n",
       "</style>\n",
       "<table border=\"1\" class=\"dataframe\">\n",
       "  <thead>\n",
       "    <tr style=\"text-align: right;\">\n",
       "      <th></th>\n",
       "      <th>contents</th>\n",
       "      <th>group_id</th>\n",
       "    </tr>\n",
       "  </thead>\n",
       "  <tbody>\n",
       "    <tr>\n",
       "      <th>0</th>\n",
       "      <td>DPstqDdrsqdDtqrFDJDDrmtsJHflSJCLgCphgHHgRHJCRRff</td>\n",
       "      <td>0</td>\n",
       "    </tr>\n",
       "    <tr>\n",
       "      <th>1</th>\n",
       "      <td>BcBGcQzVBVZcvznTTTvZcGTpCRRRfRCggLflHlhhCZpZCj</td>\n",
       "      <td>0</td>\n",
       "    </tr>\n",
       "    <tr>\n",
       "      <th>2</th>\n",
       "      <td>vGQnQvnzTzNTTbVnzGBqMqwqDLdPtMmbwqqLLM</td>\n",
       "      <td>0</td>\n",
       "    </tr>\n",
       "    <tr>\n",
       "      <th>3</th>\n",
       "      <td>wLRFRqvFsFRjfrHddbdbjzdH</td>\n",
       "      <td>1</td>\n",
       "    </tr>\n",
       "    <tr>\n",
       "      <th>4</th>\n",
       "      <td>lcsnSJPSSVVlGmGrHzbbrGNrdzbz</td>\n",
       "      <td>1</td>\n",
       "    </tr>\n",
       "  </tbody>\n",
       "</table>\n",
       "</div>"
      ],
      "text/plain": [
       "                                           contents  group_id\n",
       "0  DPstqDdrsqdDtqrFDJDDrmtsJHflSJCLgCphgHHgRHJCRRff         0\n",
       "1    BcBGcQzVBVZcvznTTTvZcGTpCRRRfRCggLflHlhhCZpZCj         0\n",
       "2            vGQnQvnzTzNTTbVnzGBqMqwqDLdPtMmbwqqLLM         0\n",
       "3                          wLRFRqvFsFRjfrHddbdbjzdH         1\n",
       "4                      lcsnSJPSSVVlGmGrHzbbrGNrdzbz         1"
      ]
     },
     "execution_count": 111,
     "metadata": {},
     "output_type": "execute_result"
    }
   ],
   "source": [
    "num_groups = int(day.shape[0] / 3)\n",
    "init_seq = list(range(num_groups))\n",
    "new_seq = init_seq * 3\n",
    "group_ids = pd.Series(sorted(new_seq))\n",
    "day[\"group_id\"] = group_ids\n",
    "day.head()"
   ]
  },
  {
   "cell_type": "code",
   "execution_count": 108,
   "metadata": {},
   "outputs": [
    {
     "name": "stdout",
     "output_type": "stream",
     "text": [
      "2444\n"
     ]
    }
   ],
   "source": [
    "priorities_tot_badges = 0\n",
    "for i in init_seq:\n",
    "    group_contents = day[day[\"group_id\"] == i][\"contents\"]\n",
    "    sets = [set(row) for _, row, _ in day[day[\"group_id\"]==i].itertuples()]\n",
    "    potential_badge = set.intersection(*sets).pop()\n",
    "\t\n",
    "    if potential_badge.isupper():\n",
    "        priority = ord(potential_badge) - 38\n",
    "    else:\n",
    "        priority = ord(potential_badge) - 96\n",
    "    priorities_tot_badges += priority\n",
    "print(priorities_tot_badges)"
   ]
  },
  {
   "cell_type": "markdown",
   "metadata": {},
   "source": [
    "#### Resources Used\n",
    "\n",
    "https://stackoverflow.com/questions/4528982/convert-alphabet-letters-to-number-in-python\n",
    "https://github.com/borjasotomayor/advent-of-code/blob/main/2022/day03.py\n"
   ]
  }
 ],
 "metadata": {
  "kernelspec": {
   "display_name": "Python 3.9.10 ('venv')",
   "language": "python",
   "name": "python3"
  },
  "language_info": {
   "codemirror_mode": {
    "name": "ipython",
    "version": 3
   },
   "file_extension": ".py",
   "mimetype": "text/x-python",
   "name": "python",
   "nbconvert_exporter": "python",
   "pygments_lexer": "ipython3",
   "version": "3.9.10"
  },
  "orig_nbformat": 4,
  "vscode": {
   "interpreter": {
    "hash": "40f6b8985ae3d3af9736205d555f7ff87522357a9f5bdb6e88eda9160976b228"
   }
  }
 },
 "nbformat": 4,
 "nbformat_minor": 2
}
