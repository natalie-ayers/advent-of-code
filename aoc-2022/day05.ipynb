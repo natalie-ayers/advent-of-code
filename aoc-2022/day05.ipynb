{
 "cells": [
  {
   "cell_type": "markdown",
   "metadata": {},
   "source": [
    "## Advent of Code 2022\n",
    "### Day 5\n",
    "#### Part 1"
   ]
  },
  {
   "cell_type": "code",
   "execution_count": 6,
   "metadata": {},
   "outputs": [],
   "source": [
    "import pandas as pd\n",
    "from itertools import islice"
   ]
  },
  {
   "cell_type": "code",
   "execution_count": 3,
   "metadata": {},
   "outputs": [
    {
     "data": {
      "text/html": [
       "<div>\n",
       "<style scoped>\n",
       "    .dataframe tbody tr th:only-of-type {\n",
       "        vertical-align: middle;\n",
       "    }\n",
       "\n",
       "    .dataframe tbody tr th {\n",
       "        vertical-align: top;\n",
       "    }\n",
       "\n",
       "    .dataframe thead th {\n",
       "        text-align: right;\n",
       "    }\n",
       "</style>\n",
       "<table border=\"1\" class=\"dataframe\">\n",
       "  <thead>\n",
       "    <tr style=\"text-align: right;\">\n",
       "      <th></th>\n",
       "      <th>dummy</th>\n",
       "      <th>num_move</th>\n",
       "      <th>dummy2</th>\n",
       "      <th>move_from</th>\n",
       "      <th>dummy3</th>\n",
       "      <th>move_to</th>\n",
       "    </tr>\n",
       "  </thead>\n",
       "  <tbody>\n",
       "    <tr>\n",
       "      <th>0</th>\n",
       "      <td>move</td>\n",
       "      <td>3</td>\n",
       "      <td>from</td>\n",
       "      <td>1</td>\n",
       "      <td>to</td>\n",
       "      <td>2</td>\n",
       "    </tr>\n",
       "    <tr>\n",
       "      <th>1</th>\n",
       "      <td>move</td>\n",
       "      <td>1</td>\n",
       "      <td>from</td>\n",
       "      <td>7</td>\n",
       "      <td>to</td>\n",
       "      <td>1</td>\n",
       "    </tr>\n",
       "    <tr>\n",
       "      <th>2</th>\n",
       "      <td>move</td>\n",
       "      <td>1</td>\n",
       "      <td>from</td>\n",
       "      <td>6</td>\n",
       "      <td>to</td>\n",
       "      <td>5</td>\n",
       "    </tr>\n",
       "    <tr>\n",
       "      <th>3</th>\n",
       "      <td>move</td>\n",
       "      <td>5</td>\n",
       "      <td>from</td>\n",
       "      <td>5</td>\n",
       "      <td>to</td>\n",
       "      <td>9</td>\n",
       "    </tr>\n",
       "    <tr>\n",
       "      <th>4</th>\n",
       "      <td>move</td>\n",
       "      <td>2</td>\n",
       "      <td>from</td>\n",
       "      <td>5</td>\n",
       "      <td>to</td>\n",
       "      <td>2</td>\n",
       "    </tr>\n",
       "  </tbody>\n",
       "</table>\n",
       "</div>"
      ],
      "text/plain": [
       "  dummy  num_move dummy2  move_from dummy3  move_to\n",
       "0  move         3   from          1     to        2\n",
       "1  move         1   from          7     to        1\n",
       "2  move         1   from          6     to        5\n",
       "3  move         5   from          5     to        9\n",
       "4  move         2   from          5     to        2"
      ]
     },
     "execution_count": 3,
     "metadata": {},
     "output_type": "execute_result"
    }
   ],
   "source": [
    "day = pd.read_csv('data/day05.txt',sep= \" \", names=['dummy',\"num_move\",\"dummy2\",\"move_from\",\"dummy3\",\"move_to\"],skiprows=10)\n",
    "\n",
    "day.head()"
   ]
  },
  {
   "cell_type": "code",
   "execution_count": 53,
   "metadata": {},
   "outputs": [
    {
     "data": {
      "text/html": [
       "<div>\n",
       "<style scoped>\n",
       "    .dataframe tbody tr th:only-of-type {\n",
       "        vertical-align: middle;\n",
       "    }\n",
       "\n",
       "    .dataframe tbody tr th {\n",
       "        vertical-align: top;\n",
       "    }\n",
       "\n",
       "    .dataframe thead th {\n",
       "        text-align: right;\n",
       "    }\n",
       "</style>\n",
       "<table border=\"1\" class=\"dataframe\">\n",
       "  <thead>\n",
       "    <tr style=\"text-align: right;\">\n",
       "      <th></th>\n",
       "      <th>num_move</th>\n",
       "      <th>move_from</th>\n",
       "      <th>move_to</th>\n",
       "    </tr>\n",
       "  </thead>\n",
       "  <tbody>\n",
       "    <tr>\n",
       "      <th>0</th>\n",
       "      <td>3</td>\n",
       "      <td>1</td>\n",
       "      <td>2</td>\n",
       "    </tr>\n",
       "    <tr>\n",
       "      <th>1</th>\n",
       "      <td>1</td>\n",
       "      <td>7</td>\n",
       "      <td>1</td>\n",
       "    </tr>\n",
       "    <tr>\n",
       "      <th>2</th>\n",
       "      <td>1</td>\n",
       "      <td>6</td>\n",
       "      <td>5</td>\n",
       "    </tr>\n",
       "    <tr>\n",
       "      <th>3</th>\n",
       "      <td>5</td>\n",
       "      <td>5</td>\n",
       "      <td>9</td>\n",
       "    </tr>\n",
       "    <tr>\n",
       "      <th>4</th>\n",
       "      <td>2</td>\n",
       "      <td>5</td>\n",
       "      <td>2</td>\n",
       "    </tr>\n",
       "  </tbody>\n",
       "</table>\n",
       "</div>"
      ],
      "text/plain": [
       "   num_move  move_from  move_to\n",
       "0         3          1        2\n",
       "1         1          7        1\n",
       "2         1          6        5\n",
       "3         5          5        9\n",
       "4         2          5        2"
      ]
     },
     "execution_count": 53,
     "metadata": {},
     "output_type": "execute_result"
    }
   ],
   "source": [
    "instructions_df = day.drop(columns=[\"dummy\",\"dummy2\",\"dummy3\"])\n",
    "instructions_df.head()"
   ]
  },
  {
   "cell_type": "code",
   "execution_count": 7,
   "metadata": {},
   "outputs": [
    {
     "data": {
      "text/plain": [
       "['[N] [G]                     [Q]    \\n',\n",
       " '[H] [B]         [B] [R]     [H]    \\n',\n",
       " '[S] [N]     [Q] [M] [T]     [Z]    \\n',\n",
       " '[J] [T]     [R] [V] [H]     [R] [S]\\n',\n",
       " '[F] [Q]     [W] [T] [V] [J] [V] [M]\\n',\n",
       " '[W] [P] [V] [S] [F] [B] [Q] [J] [H]\\n',\n",
       " '[T] [R] [Q] [B] [D] [D] [B] [N] [N]\\n',\n",
       " '[D] [H] [L] [N] [N] [M] [D] [D] [B]\\n',\n",
       " ' 1   2   3   4   5   6   7   8   9 \\n']"
      ]
     },
     "execution_count": 7,
     "metadata": {},
     "output_type": "execute_result"
    }
   ],
   "source": [
    "with open('data/day05.txt') as f:\n",
    "    orig_stacks = list(islice(f, 9))\n",
    "orig_stacks"
   ]
  },
  {
   "cell_type": "code",
   "execution_count": 49,
   "metadata": {},
   "outputs": [],
   "source": [
    "def create_empty_stack_dicts(stacks_list):\n",
    "    \"\"\" \n",
    "    Generate dictionary of number of stacks to store\n",
    "        stack contents in\n",
    "    \"\"\"\n",
    "\n",
    "    stack_num_idx = len(stacks_list) - 1\n",
    "    ids_str = stacks_list[stack_num_idx]\n",
    "    ids_str = ids_str.replace(\" \",\"\")\n",
    "    ids_str = ids_str.replace(\"\\n\",\"\")\n",
    "    #print(ids_str)\n",
    "\n",
    "    stack_dicts = {int(i):[] for i in ids_str}\n",
    "    #print(stack_dicts)\n",
    "\n",
    "    return stack_dicts\n",
    "\n",
    "def gen_stack_row(str_stack, num_stacks):\n",
    "    \"\"\" \n",
    "    Generates a list of stack contents for a single row\n",
    "        from a string representation of that row\n",
    "    \"\"\"\n",
    "\n",
    "    str_stack = str_stack.replace(\"\\n\",\"\")\n",
    "    inp_len = len(str_stack)\n",
    "    chunk_size = round(inp_len / num_stacks)\n",
    "    #print(chunk_size)\n",
    "    stack_sep =[str_stack[i:i+chunk_size].strip().replace(\"[\",\"\").replace(\"]\",\"\") \\\n",
    "        for i in range(0, inp_len, chunk_size)]\n",
    "    #print(stack_sep)\n",
    "\n",
    "    return stack_sep\n",
    "\n",
    "def create_stacks(stacks_list):\n",
    "    \"\"\" \n",
    "    Create dictionary of list representation of stacks \n",
    "        from list of string representations.\n",
    "    \"\"\"\n",
    "    # generate empty dictionary of lists for stacks\n",
    "    stack_dicts = create_empty_stack_dicts(stacks_list)\n",
    "    num_stacks = len(stack_dicts)\n",
    "\n",
    "    max_stack_height = len(stacks_list) - 1\n",
    "    #print('max height',max_stack_height)\n",
    "    for r in range(max_stack_height-1,-1,-1):\n",
    "        stack_row = stacks_list[r]\n",
    "        #print('stack_row:',stack_row)\n",
    "        stack_list = gen_stack_row(stack_row, num_stacks)\n",
    "        for idx, val in enumerate(stack_list):\n",
    "            #print(idx, val)\n",
    "            if val != \"\":\n",
    "                stack_dicts[idx+1].append(val)\n",
    "\n",
    "    return stack_dicts\n"
   ]
  },
  {
   "cell_type": "code",
   "execution_count": 68,
   "metadata": {},
   "outputs": [
    {
     "data": {
      "text/plain": [
       "{1: ['D', 'T', 'W', 'F', 'J', 'S', 'H', 'N'],\n",
       " 2: ['H', 'R', 'P', 'Q', 'T', 'N', 'B', 'G'],\n",
       " 3: ['L', 'Q', 'V'],\n",
       " 4: ['N', 'B', 'S', 'W', 'R', 'Q'],\n",
       " 5: ['N', 'D', 'F', 'T', 'V', 'M', 'B'],\n",
       " 6: ['M', 'D', 'B', 'V', 'H', 'T', 'R'],\n",
       " 7: ['D', 'B', 'Q', 'J'],\n",
       " 8: ['D', 'N', 'J', 'V', 'R', 'Z', 'H', 'Q'],\n",
       " 9: ['B', 'N', 'H', 'M', 'S']}"
      ]
     },
     "execution_count": 68,
     "metadata": {},
     "output_type": "execute_result"
    }
   ],
   "source": [
    "stacks_dict = create_stacks(orig_stacks)\n",
    "stacks_dict"
   ]
  },
  {
   "cell_type": "code",
   "execution_count": 69,
   "metadata": {},
   "outputs": [],
   "source": [
    "def one_move(num_move, move_from, move_to, stacks_dict):\n",
    "    \"\"\" \n",
    "    Follow one step of the rearrangement procedure\n",
    "    \"\"\"\n",
    "\n",
    "    for _ in range(num_move):\n",
    "        tomove = stacks_dict[move_from].pop()\n",
    "        stacks_dict[move_to].append(tomove)\n",
    "    \n",
    "    return stacks_dict\n",
    "\n",
    "def move_boxes(instructions_df, stacks_dict, move_func):\n",
    "    \"\"\" \n",
    "    Perform the entire rearrangement procedure\n",
    "    \"\"\"\n",
    "\n",
    "    for _, num_move, move_from, move_to in instructions_df.itertuples():\n",
    "        stacks_dict = move_func(num_move, move_from, move_to, stacks_dict)\n",
    "\n",
    "    return stacks_dict"
   ]
  },
  {
   "cell_type": "code",
   "execution_count": 70,
   "metadata": {},
   "outputs": [
    {
     "data": {
      "text/plain": [
       "{1: ['G'],\n",
       " 2: ['R'],\n",
       " 3: ['V', 'S', 'T', 'T'],\n",
       " 4: ['D', 'N', 'R', 'W', 'S'],\n",
       " 5: ['F', 'V', 'B', 'T', 'B', 'J', 'D', 'M', 'W'],\n",
       " 6: ['Q', 'D', 'B', 'Q', 'P', 'Q', 'F', 'M', 'V', 'N'],\n",
       " 7: ['N', 'J'],\n",
       " 8: ['J', 'B', 'N', 'T', 'L', 'H', 'M', 'D', 'R', 'D', 'H', 'N', 'H'],\n",
       " 9: ['N', 'V', 'Q', 'R', 'S', 'B', 'B', 'Z', 'H', 'Q', 'H']}"
      ]
     },
     "execution_count": 70,
     "metadata": {},
     "output_type": "execute_result"
    }
   ],
   "source": [
    "final_stacks = move_boxes(instructions_df, stacks_dict, one_move)\n",
    "final_stacks"
   ]
  },
  {
   "cell_type": "code",
   "execution_count": 71,
   "metadata": {},
   "outputs": [
    {
     "name": "stdout",
     "output_type": "stream",
     "text": [
      "GRTSWNJHH\n"
     ]
    }
   ],
   "source": [
    "# id top crate from each stack\n",
    "# without removing them from the stack\n",
    "top_crates = \"\"\n",
    "for i in range(len(final_stacks)):\n",
    "    stack_height = len(final_stacks[i+1])\n",
    "    top_crate = final_stacks[i+1][stack_height-1]\n",
    "    top_crates = top_crates + top_crate\n",
    "\n",
    "print(top_crates)"
   ]
  },
  {
   "cell_type": "markdown",
   "metadata": {},
   "source": [
    "#### Part 2"
   ]
  },
  {
   "cell_type": "code",
   "execution_count": 72,
   "metadata": {},
   "outputs": [],
   "source": [
    "def one_move_9001(num_move, move_from, move_to, stacks_dict):\n",
    "    \"\"\" \n",
    "    Follow one step of the rearrangement procedure\n",
    "        for the 9001 crane (moving multiple boxes at once)\n",
    "    \"\"\"\n",
    "\n",
    "    # id boxes to move\n",
    "    tomove = stacks_dict[move_from][-num_move:]\n",
    "    # remove boxes from original stack\n",
    "    stacks_dict[move_from] = stacks_dict[move_from][:-num_move]\n",
    "    # add boxes to new stack\n",
    "    stacks_dict[move_to].extend(tomove)\n",
    "\n",
    "    return stacks_dict"
   ]
  },
  {
   "cell_type": "code",
   "execution_count": 73,
   "metadata": {},
   "outputs": [
    {
     "data": {
      "text/plain": [
       "{1: ['D', 'T', 'W', 'F', 'J', 'S', 'H', 'N'],\n",
       " 2: ['H', 'R', 'P', 'Q', 'T', 'N', 'B', 'G'],\n",
       " 3: ['L', 'Q', 'V'],\n",
       " 4: ['N', 'B', 'S', 'W', 'R', 'Q'],\n",
       " 5: ['N', 'D', 'F', 'T', 'V', 'M', 'B'],\n",
       " 6: ['M', 'D', 'B', 'V', 'H', 'T', 'R'],\n",
       " 7: ['D', 'B', 'Q', 'J'],\n",
       " 8: ['D', 'N', 'J', 'V', 'R', 'Z', 'H', 'Q'],\n",
       " 9: ['B', 'N', 'H', 'M', 'S']}"
      ]
     },
     "execution_count": 73,
     "metadata": {},
     "output_type": "execute_result"
    }
   ],
   "source": [
    "stacks_dict = create_stacks(orig_stacks)\n",
    "stacks_dict"
   ]
  },
  {
   "cell_type": "code",
   "execution_count": 74,
   "metadata": {},
   "outputs": [
    {
     "data": {
      "text/plain": [
       "{1: ['Q'],\n",
       " 2: ['L'],\n",
       " 3: ['M', 'H', 'R', 'F'],\n",
       " 4: ['S', 'T', 'M', 'J', 'Q'],\n",
       " 5: ['D', 'S', 'Q', 'N', 'V', 'T', 'H', 'W', 'D'],\n",
       " 6: ['D', 'J', 'N', 'R', 'H', 'B', 'B', 'F', 'T', 'B'],\n",
       " 7: ['N', 'B'],\n",
       " 8: ['J', 'P', 'Q', 'Q', 'N', 'S', 'W', 'R', 'V', 'V', 'T', 'D', 'H'],\n",
       " 9: ['R', 'V', 'G', 'D', 'B', 'Z', 'H', 'N', 'N', 'B', 'M']}"
      ]
     },
     "execution_count": 74,
     "metadata": {},
     "output_type": "execute_result"
    }
   ],
   "source": [
    "final_stacks_9001 = move_boxes(instructions_df, stacks_dict, one_move_9001)\n",
    "final_stacks_9001"
   ]
  },
  {
   "cell_type": "code",
   "execution_count": 75,
   "metadata": {},
   "outputs": [
    {
     "name": "stdout",
     "output_type": "stream",
     "text": [
      "QLFQDBBHM\n"
     ]
    }
   ],
   "source": [
    "# id top crate from each stack\n",
    "# without removing them from the stack\n",
    "top_crates_9001 = \"\"\n",
    "for i in range(len(final_stacks_9001)):\n",
    "    stack_height = len(final_stacks_9001[i+1])\n",
    "    top_crate = final_stacks_9001[i+1][stack_height-1]\n",
    "    top_crates_9001 = top_crates_9001 + top_crate\n",
    "\n",
    "print(top_crates_9001)"
   ]
  },
  {
   "cell_type": "markdown",
   "metadata": {},
   "source": [
    "#### References Used\n",
    "\n",
    "https://stackoverflow.com/questions/40648345/read-first-n-lines-using-readlines"
   ]
  }
 ],
 "metadata": {
  "kernelspec": {
   "display_name": "Python 3.9.10 ('venv')",
   "language": "python",
   "name": "python3"
  },
  "language_info": {
   "codemirror_mode": {
    "name": "ipython",
    "version": 3
   },
   "file_extension": ".py",
   "mimetype": "text/x-python",
   "name": "python",
   "nbconvert_exporter": "python",
   "pygments_lexer": "ipython3",
   "version": "3.9.10"
  },
  "orig_nbformat": 4,
  "vscode": {
   "interpreter": {
    "hash": "40f6b8985ae3d3af9736205d555f7ff87522357a9f5bdb6e88eda9160976b228"
   }
  }
 },
 "nbformat": 4,
 "nbformat_minor": 2
}
